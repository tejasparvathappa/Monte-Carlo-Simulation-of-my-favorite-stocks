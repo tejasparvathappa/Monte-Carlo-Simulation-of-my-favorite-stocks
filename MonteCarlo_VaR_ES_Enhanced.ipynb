{
  "cells": [
    {
      "cell_type": "markdown",
      "metadata": {
        "id": "view-in-github",
        "colab_type": "text"
      },
      "source": [
        "<a href=\"https://colab.research.google.com/github/tejasparvathappa/Monte-Carlo-Simulation-of-my-favorite-stocks/blob/main/MonteCarlo_VaR_ES_Enhanced.ipynb\" target=\"_parent\"><img src=\"https://colab.research.google.com/assets/colab-badge.svg\" alt=\"Open In Colab\"/></a>"
      ]
    },
    {
      "cell_type": "markdown",
      "id": "58287982",
      "metadata": {
        "id": "58287982"
      },
      "source": [
        "\n",
        "# Monte Carlo Simulation for Value at Risk (VaR) and Expected Shortfall\n",
        "\n",
        "Calculating **Value at Risk (VaR)** and **Expected Shortfall (ES)** for a portfolio of assets."
      ]
    },
    {
      "cell_type": "code",
      "execution_count": 1,
      "id": "1e059b6b",
      "metadata": {
        "id": "1e059b6b"
      },
      "outputs": [],
      "source": [
        "\n",
        "import numpy as np\n",
        "import pandas as pd\n",
        "import matplotlib.pyplot as plt\n",
        "import yfinance as yf\n",
        "import ipywidgets as widgets\n",
        "from ipywidgets import interact\n"
      ]
    },
    {
      "cell_type": "code",
      "execution_count": 2,
      "id": "b09bf2f0",
      "metadata": {
        "colab": {
          "base_uri": "https://localhost:8080/",
          "height": 255
        },
        "id": "b09bf2f0",
        "outputId": "72eee4ad-7c48-41ba-caa3-95afd02854b2"
      },
      "outputs": [
        {
          "output_type": "stream",
          "name": "stderr",
          "text": [
            "[*********************100%***********************]  5 of 5 completed\n"
          ]
        },
        {
          "output_type": "execute_result",
          "data": {
            "text/plain": [
              "Ticker           AVGO        META  PLTR         QQQ         VOO\n",
              "Date                                                           \n",
              "2023-01-03  53.020180  123.975731  6.39  260.130615  337.761108\n",
              "2023-01-04  53.667744  126.589615  6.58  261.369873  340.193085\n",
              "2023-01-05  53.167690  126.162254  6.32  257.278290  336.477631\n",
              "2023-01-06  56.368187  129.223373  6.40  264.379517  344.130463\n",
              "2023-01-09  55.262714  128.676743  6.50  266.091034  343.879547"
            ],
            "text/html": [
              "\n",
              "  <div id=\"df-eefe6c5c-b05e-40dc-857a-ba1a2e20bc2b\" class=\"colab-df-container\">\n",
              "    <div>\n",
              "<style scoped>\n",
              "    .dataframe tbody tr th:only-of-type {\n",
              "        vertical-align: middle;\n",
              "    }\n",
              "\n",
              "    .dataframe tbody tr th {\n",
              "        vertical-align: top;\n",
              "    }\n",
              "\n",
              "    .dataframe thead th {\n",
              "        text-align: right;\n",
              "    }\n",
              "</style>\n",
              "<table border=\"1\" class=\"dataframe\">\n",
              "  <thead>\n",
              "    <tr style=\"text-align: right;\">\n",
              "      <th>Ticker</th>\n",
              "      <th>AVGO</th>\n",
              "      <th>META</th>\n",
              "      <th>PLTR</th>\n",
              "      <th>QQQ</th>\n",
              "      <th>VOO</th>\n",
              "    </tr>\n",
              "    <tr>\n",
              "      <th>Date</th>\n",
              "      <th></th>\n",
              "      <th></th>\n",
              "      <th></th>\n",
              "      <th></th>\n",
              "      <th></th>\n",
              "    </tr>\n",
              "  </thead>\n",
              "  <tbody>\n",
              "    <tr>\n",
              "      <th>2023-01-03</th>\n",
              "      <td>53.020180</td>\n",
              "      <td>123.975731</td>\n",
              "      <td>6.39</td>\n",
              "      <td>260.130615</td>\n",
              "      <td>337.761108</td>\n",
              "    </tr>\n",
              "    <tr>\n",
              "      <th>2023-01-04</th>\n",
              "      <td>53.667744</td>\n",
              "      <td>126.589615</td>\n",
              "      <td>6.58</td>\n",
              "      <td>261.369873</td>\n",
              "      <td>340.193085</td>\n",
              "    </tr>\n",
              "    <tr>\n",
              "      <th>2023-01-05</th>\n",
              "      <td>53.167690</td>\n",
              "      <td>126.162254</td>\n",
              "      <td>6.32</td>\n",
              "      <td>257.278290</td>\n",
              "      <td>336.477631</td>\n",
              "    </tr>\n",
              "    <tr>\n",
              "      <th>2023-01-06</th>\n",
              "      <td>56.368187</td>\n",
              "      <td>129.223373</td>\n",
              "      <td>6.40</td>\n",
              "      <td>264.379517</td>\n",
              "      <td>344.130463</td>\n",
              "    </tr>\n",
              "    <tr>\n",
              "      <th>2023-01-09</th>\n",
              "      <td>55.262714</td>\n",
              "      <td>128.676743</td>\n",
              "      <td>6.50</td>\n",
              "      <td>266.091034</td>\n",
              "      <td>343.879547</td>\n",
              "    </tr>\n",
              "  </tbody>\n",
              "</table>\n",
              "</div>\n",
              "    <div class=\"colab-df-buttons\">\n",
              "\n",
              "  <div class=\"colab-df-container\">\n",
              "    <button class=\"colab-df-convert\" onclick=\"convertToInteractive('df-eefe6c5c-b05e-40dc-857a-ba1a2e20bc2b')\"\n",
              "            title=\"Convert this dataframe to an interactive table.\"\n",
              "            style=\"display:none;\">\n",
              "\n",
              "  <svg xmlns=\"http://www.w3.org/2000/svg\" height=\"24px\" viewBox=\"0 -960 960 960\">\n",
              "    <path d=\"M120-120v-720h720v720H120Zm60-500h600v-160H180v160Zm220 220h160v-160H400v160Zm0 220h160v-160H400v160ZM180-400h160v-160H180v160Zm440 0h160v-160H620v160ZM180-180h160v-160H180v160Zm440 0h160v-160H620v160Z\"/>\n",
              "  </svg>\n",
              "    </button>\n",
              "\n",
              "  <style>\n",
              "    .colab-df-container {\n",
              "      display:flex;\n",
              "      gap: 12px;\n",
              "    }\n",
              "\n",
              "    .colab-df-convert {\n",
              "      background-color: #E8F0FE;\n",
              "      border: none;\n",
              "      border-radius: 50%;\n",
              "      cursor: pointer;\n",
              "      display: none;\n",
              "      fill: #1967D2;\n",
              "      height: 32px;\n",
              "      padding: 0 0 0 0;\n",
              "      width: 32px;\n",
              "    }\n",
              "\n",
              "    .colab-df-convert:hover {\n",
              "      background-color: #E2EBFA;\n",
              "      box-shadow: 0px 1px 2px rgba(60, 64, 67, 0.3), 0px 1px 3px 1px rgba(60, 64, 67, 0.15);\n",
              "      fill: #174EA6;\n",
              "    }\n",
              "\n",
              "    .colab-df-buttons div {\n",
              "      margin-bottom: 4px;\n",
              "    }\n",
              "\n",
              "    [theme=dark] .colab-df-convert {\n",
              "      background-color: #3B4455;\n",
              "      fill: #D2E3FC;\n",
              "    }\n",
              "\n",
              "    [theme=dark] .colab-df-convert:hover {\n",
              "      background-color: #434B5C;\n",
              "      box-shadow: 0px 1px 3px 1px rgba(0, 0, 0, 0.15);\n",
              "      filter: drop-shadow(0px 1px 2px rgba(0, 0, 0, 0.3));\n",
              "      fill: #FFFFFF;\n",
              "    }\n",
              "  </style>\n",
              "\n",
              "    <script>\n",
              "      const buttonEl =\n",
              "        document.querySelector('#df-eefe6c5c-b05e-40dc-857a-ba1a2e20bc2b button.colab-df-convert');\n",
              "      buttonEl.style.display =\n",
              "        google.colab.kernel.accessAllowed ? 'block' : 'none';\n",
              "\n",
              "      async function convertToInteractive(key) {\n",
              "        const element = document.querySelector('#df-eefe6c5c-b05e-40dc-857a-ba1a2e20bc2b');\n",
              "        const dataTable =\n",
              "          await google.colab.kernel.invokeFunction('convertToInteractive',\n",
              "                                                    [key], {});\n",
              "        if (!dataTable) return;\n",
              "\n",
              "        const docLinkHtml = 'Like what you see? Visit the ' +\n",
              "          '<a target=\"_blank\" href=https://colab.research.google.com/notebooks/data_table.ipynb>data table notebook</a>'\n",
              "          + ' to learn more about interactive tables.';\n",
              "        element.innerHTML = '';\n",
              "        dataTable['output_type'] = 'display_data';\n",
              "        await google.colab.output.renderOutput(dataTable, element);\n",
              "        const docLink = document.createElement('div');\n",
              "        docLink.innerHTML = docLinkHtml;\n",
              "        element.appendChild(docLink);\n",
              "      }\n",
              "    </script>\n",
              "  </div>\n",
              "\n",
              "\n",
              "    <div id=\"df-9f932a2b-c5a2-4441-8f6d-dcaaa2acb1e7\">\n",
              "      <button class=\"colab-df-quickchart\" onclick=\"quickchart('df-9f932a2b-c5a2-4441-8f6d-dcaaa2acb1e7')\"\n",
              "                title=\"Suggest charts\"\n",
              "                style=\"display:none;\">\n",
              "\n",
              "<svg xmlns=\"http://www.w3.org/2000/svg\" height=\"24px\"viewBox=\"0 0 24 24\"\n",
              "     width=\"24px\">\n",
              "    <g>\n",
              "        <path d=\"M19 3H5c-1.1 0-2 .9-2 2v14c0 1.1.9 2 2 2h14c1.1 0 2-.9 2-2V5c0-1.1-.9-2-2-2zM9 17H7v-7h2v7zm4 0h-2V7h2v10zm4 0h-2v-4h2v4z\"/>\n",
              "    </g>\n",
              "</svg>\n",
              "      </button>\n",
              "\n",
              "<style>\n",
              "  .colab-df-quickchart {\n",
              "      --bg-color: #E8F0FE;\n",
              "      --fill-color: #1967D2;\n",
              "      --hover-bg-color: #E2EBFA;\n",
              "      --hover-fill-color: #174EA6;\n",
              "      --disabled-fill-color: #AAA;\n",
              "      --disabled-bg-color: #DDD;\n",
              "  }\n",
              "\n",
              "  [theme=dark] .colab-df-quickchart {\n",
              "      --bg-color: #3B4455;\n",
              "      --fill-color: #D2E3FC;\n",
              "      --hover-bg-color: #434B5C;\n",
              "      --hover-fill-color: #FFFFFF;\n",
              "      --disabled-bg-color: #3B4455;\n",
              "      --disabled-fill-color: #666;\n",
              "  }\n",
              "\n",
              "  .colab-df-quickchart {\n",
              "    background-color: var(--bg-color);\n",
              "    border: none;\n",
              "    border-radius: 50%;\n",
              "    cursor: pointer;\n",
              "    display: none;\n",
              "    fill: var(--fill-color);\n",
              "    height: 32px;\n",
              "    padding: 0;\n",
              "    width: 32px;\n",
              "  }\n",
              "\n",
              "  .colab-df-quickchart:hover {\n",
              "    background-color: var(--hover-bg-color);\n",
              "    box-shadow: 0 1px 2px rgba(60, 64, 67, 0.3), 0 1px 3px 1px rgba(60, 64, 67, 0.15);\n",
              "    fill: var(--button-hover-fill-color);\n",
              "  }\n",
              "\n",
              "  .colab-df-quickchart-complete:disabled,\n",
              "  .colab-df-quickchart-complete:disabled:hover {\n",
              "    background-color: var(--disabled-bg-color);\n",
              "    fill: var(--disabled-fill-color);\n",
              "    box-shadow: none;\n",
              "  }\n",
              "\n",
              "  .colab-df-spinner {\n",
              "    border: 2px solid var(--fill-color);\n",
              "    border-color: transparent;\n",
              "    border-bottom-color: var(--fill-color);\n",
              "    animation:\n",
              "      spin 1s steps(1) infinite;\n",
              "  }\n",
              "\n",
              "  @keyframes spin {\n",
              "    0% {\n",
              "      border-color: transparent;\n",
              "      border-bottom-color: var(--fill-color);\n",
              "      border-left-color: var(--fill-color);\n",
              "    }\n",
              "    20% {\n",
              "      border-color: transparent;\n",
              "      border-left-color: var(--fill-color);\n",
              "      border-top-color: var(--fill-color);\n",
              "    }\n",
              "    30% {\n",
              "      border-color: transparent;\n",
              "      border-left-color: var(--fill-color);\n",
              "      border-top-color: var(--fill-color);\n",
              "      border-right-color: var(--fill-color);\n",
              "    }\n",
              "    40% {\n",
              "      border-color: transparent;\n",
              "      border-right-color: var(--fill-color);\n",
              "      border-top-color: var(--fill-color);\n",
              "    }\n",
              "    60% {\n",
              "      border-color: transparent;\n",
              "      border-right-color: var(--fill-color);\n",
              "    }\n",
              "    80% {\n",
              "      border-color: transparent;\n",
              "      border-right-color: var(--fill-color);\n",
              "      border-bottom-color: var(--fill-color);\n",
              "    }\n",
              "    90% {\n",
              "      border-color: transparent;\n",
              "      border-bottom-color: var(--fill-color);\n",
              "    }\n",
              "  }\n",
              "</style>\n",
              "\n",
              "      <script>\n",
              "        async function quickchart(key) {\n",
              "          const quickchartButtonEl =\n",
              "            document.querySelector('#' + key + ' button');\n",
              "          quickchartButtonEl.disabled = true;  // To prevent multiple clicks.\n",
              "          quickchartButtonEl.classList.add('colab-df-spinner');\n",
              "          try {\n",
              "            const charts = await google.colab.kernel.invokeFunction(\n",
              "                'suggestCharts', [key], {});\n",
              "          } catch (error) {\n",
              "            console.error('Error during call to suggestCharts:', error);\n",
              "          }\n",
              "          quickchartButtonEl.classList.remove('colab-df-spinner');\n",
              "          quickchartButtonEl.classList.add('colab-df-quickchart-complete');\n",
              "        }\n",
              "        (() => {\n",
              "          let quickchartButtonEl =\n",
              "            document.querySelector('#df-9f932a2b-c5a2-4441-8f6d-dcaaa2acb1e7 button');\n",
              "          quickchartButtonEl.style.display =\n",
              "            google.colab.kernel.accessAllowed ? 'block' : 'none';\n",
              "        })();\n",
              "      </script>\n",
              "    </div>\n",
              "\n",
              "    </div>\n",
              "  </div>\n"
            ],
            "application/vnd.google.colaboratory.intrinsic+json": {
              "type": "dataframe",
              "variable_name": "data",
              "summary": "{\n  \"name\": \"data\",\n  \"rows\": 624,\n  \"fields\": [\n    {\n      \"column\": \"Date\",\n      \"properties\": {\n        \"dtype\": \"date\",\n        \"min\": \"2023-01-03 00:00:00\",\n        \"max\": \"2025-06-30 00:00:00\",\n        \"num_unique_values\": 624,\n        \"samples\": [\n          \"2024-10-11 00:00:00\",\n          \"2024-12-23 00:00:00\",\n          \"2023-11-09 00:00:00\"\n        ],\n        \"semantic_type\": \"\",\n        \"description\": \"\"\n      }\n    },\n    {\n      \"column\": \"AVGO\",\n      \"properties\": {\n        \"dtype\": \"number\",\n        \"std\": 57.248885816212464,\n        \"min\": 53.020179748535156,\n        \"max\": 275.17852783203125,\n        \"num_unique_values\": 620,\n        \"samples\": [\n          59.971004486083984,\n          206.92758178710938,\n          59.080814361572266\n        ],\n        \"semantic_type\": \"\",\n        \"description\": \"\"\n      }\n    },\n    {\n      \"column\": \"META\",\n      \"properties\": {\n        \"dtype\": \"number\",\n        \"std\": 160.4799915543798,\n        \"min\": 123.9757308959961,\n        \"max\": 737.5922241210938,\n        \"num_unique_values\": 619,\n        \"samples\": [\n          196.53839111328125,\n          597.147216796875,\n          235.57772827148438\n        ],\n        \"semantic_type\": \"\",\n        \"description\": \"\"\n      }\n    },\n    {\n      \"column\": \"PLTR\",\n      \"properties\": {\n        \"dtype\": \"number\",\n        \"std\": 36.034138355331905,\n        \"min\": 6.320000171661377,\n        \"max\": 144.25,\n        \"num_unique_values\": 573,\n        \"samples\": [\n          83.5999984741211,\n          7.409999847412109,\n          15.25\n        ],\n        \"semantic_type\": \"\",\n        \"description\": \"\"\n      }\n    },\n    {\n      \"column\": \"QQQ\",\n      \"properties\": {\n        \"dtype\": \"number\",\n        \"std\": 75.21234988714414,\n        \"min\": 257.2782897949219,\n        \"max\": 551.001220703125,\n        \"num_unique_values\": 619,\n        \"samples\": [\n          294.0141296386719,\n          487.1774597167969,\n          314.6141357421875\n        ],\n        \"semantic_type\": \"\",\n        \"description\": \"\"\n      }\n    },\n    {\n      \"column\": \"VOO\",\n      \"properties\": {\n        \"dtype\": \"number\",\n        \"std\": 67.8145799040871,\n        \"min\": 336.4776306152344,\n        \"max\": 568.030029296875,\n        \"num_unique_values\": 622,\n        \"samples\": [\n          422.42547607421875,\n          481.50274658203125,\n          397.63922119140625\n        ],\n        \"semantic_type\": \"\",\n        \"description\": \"\"\n      }\n    }\n  ]\n}"
            }
          },
          "metadata": {},
          "execution_count": 2
        }
      ],
      "source": [
        "\n",
        "# Define tickers and period for my favorite stocks\n",
        "tickers = [\"VOO\", \"QQQ\", \"AVGO\", \"PLTR\", \"META\"]\n",
        "start = \"2023-01-01\"\n",
        "end = \"2025-07-01\"\n",
        "\n",
        "# Download adjusted close prices (auto_adjust=False ensures 'Adj Close' exists)\n",
        "data = yf.download(tickers, start=start, end=end, auto_adjust=False)[\"Adj Close\"]\n",
        "data.head()\n"
      ]
    },
    {
      "cell_type": "code",
      "execution_count": 3,
      "id": "377dc0f5",
      "metadata": {
        "colab": {
          "base_uri": "https://localhost:8080/",
          "height": 272
        },
        "id": "377dc0f5",
        "outputId": "dedacca8-5ca1-4c6a-9780-a5fc4497ec0f"
      },
      "outputs": [
        {
          "output_type": "execute_result",
          "data": {
            "text/plain": [
              "Date\n",
              "2023-01-04    0.014999\n",
              "2023-01-05   -0.015757\n",
              "2023-01-06    0.029493\n",
              "2023-01-09   -0.000494\n",
              "2023-01-10    0.014030\n",
              "dtype: float64"
            ],
            "text/html": [
              "<div>\n",
              "<style scoped>\n",
              "    .dataframe tbody tr th:only-of-type {\n",
              "        vertical-align: middle;\n",
              "    }\n",
              "\n",
              "    .dataframe tbody tr th {\n",
              "        vertical-align: top;\n",
              "    }\n",
              "\n",
              "    .dataframe thead th {\n",
              "        text-align: right;\n",
              "    }\n",
              "</style>\n",
              "<table border=\"1\" class=\"dataframe\">\n",
              "  <thead>\n",
              "    <tr style=\"text-align: right;\">\n",
              "      <th></th>\n",
              "      <th>0</th>\n",
              "    </tr>\n",
              "    <tr>\n",
              "      <th>Date</th>\n",
              "      <th></th>\n",
              "    </tr>\n",
              "  </thead>\n",
              "  <tbody>\n",
              "    <tr>\n",
              "      <th>2023-01-04</th>\n",
              "      <td>0.014999</td>\n",
              "    </tr>\n",
              "    <tr>\n",
              "      <th>2023-01-05</th>\n",
              "      <td>-0.015757</td>\n",
              "    </tr>\n",
              "    <tr>\n",
              "      <th>2023-01-06</th>\n",
              "      <td>0.029493</td>\n",
              "    </tr>\n",
              "    <tr>\n",
              "      <th>2023-01-09</th>\n",
              "      <td>-0.000494</td>\n",
              "    </tr>\n",
              "    <tr>\n",
              "      <th>2023-01-10</th>\n",
              "      <td>0.014030</td>\n",
              "    </tr>\n",
              "  </tbody>\n",
              "</table>\n",
              "</div><br><label><b>dtype:</b> float64</label>"
            ]
          },
          "metadata": {},
          "execution_count": 3
        }
      ],
      "source": [
        "\n",
        "# Calculate daily returns\n",
        "returns = data.pct_change().dropna()\n",
        "\n",
        "# Equal-weighted portfolio\n",
        "weights = np.ones(len(tickers)) / len(tickers)\n",
        "portfolio_returns = returns.dot(weights)\n",
        "portfolio_returns.head()\n"
      ]
    },
    {
      "cell_type": "code",
      "execution_count": 4,
      "id": "38a136a4",
      "metadata": {
        "id": "38a136a4"
      },
      "outputs": [],
      "source": [
        "\n",
        "# Parameters\n",
        "num_simulations = 100000\n",
        "\n",
        "# Mean and std of portfolio returns\n",
        "mu = portfolio_returns.mean()\n",
        "sigma = portfolio_returns.std()\n",
        "\n",
        "# Simulate losses (negative returns)\n",
        "simulated_returns = np.random.normal(mu, sigma, num_simulations)\n",
        "losses = -simulated_returns\n"
      ]
    },
    {
      "cell_type": "code",
      "execution_count": 5,
      "id": "4b963e5e",
      "metadata": {
        "colab": {
          "base_uri": "https://localhost:8080/"
        },
        "id": "4b963e5e",
        "outputId": "c0f3501b-d18a-4118-f1b5-cdde469aa941"
      },
      "outputs": [
        {
          "output_type": "stream",
          "name": "stdout",
          "text": [
            "Value at Risk (95% confidence): 0.0345\n"
          ]
        }
      ],
      "source": [
        "\n",
        "# Calculate 95% VaR\n",
        "confidence_level = 95\n",
        "var_95 = np.percentile(losses, 100-confidence_level)\n",
        "\n",
        "print(f\"Value at Risk (95% confidence): {-var_95:.4f}\")\n"
      ]
    },
    {
      "cell_type": "code",
      "execution_count": 6,
      "id": "8989e930",
      "metadata": {
        "colab": {
          "base_uri": "https://localhost:8080/",
          "height": 487
        },
        "id": "8989e930",
        "outputId": "f3c69f2f-ddf2-4cd9-d9fc-81a30fce78c2"
      },
      "outputs": [
        {
          "output_type": "display_data",
          "data": {
            "text/plain": [
              "<Figure size 800x500 with 1 Axes>"
            ],
            "image/png": "[encoded data removed]"
          },
          "metadata": {}
        }
      ],
      "source": [
        "\n",
        "# Plot distribution of losses\n",
        "plt.figure(figsize=(8,5))\n",
        "plt.hist(losses, bins=50, alpha=0.7, edgecolor='black')\n",
        "plt.axvline(-var_95, color=\"red\", linestyle=\"--\", label=\"VaR (95%)\")\n",
        "plt.title(\"Monte Carlo Simulation of Portfolio Losses\")\n",
        "plt.xlabel(\"Loss\")\n",
        "plt.ylabel(\"Frequency\")\n",
        "plt.legend()\n",
        "plt.show()\n"
      ]
    },
    {
      "cell_type": "code",
      "execution_count": 7,
      "id": "b5728727",
      "metadata": {
        "colab": {
          "base_uri": "https://localhost:8080/"
        },
        "id": "b5728727",
        "outputId": "eed00443-e7f1-4f48-cb44-bc2ebf712712"
      },
      "outputs": [
        {
          "output_type": "stream",
          "name": "stdout",
          "text": [
            "Expected Shortfall at 95% confidence: -0.0039\n"
          ]
        }
      ],
      "source": [
        "\n",
        "# Compute Expected Shortfall (Conditional VaR)\n",
        "es_95 = losses[losses <= -var_95].mean()\n",
        "print(f\"Expected Shortfall at 95% confidence: {es_95:.4f}\")\n"
      ]
    },
    {
      "cell_type": "code",
      "execution_count": 8,
      "id": "edc2d564",
      "metadata": {
        "colab": {
          "base_uri": "https://localhost:8080/",
          "height": 487
        },
        "id": "edc2d564",
        "outputId": "4a54b99d-c666-4803-902e-b11d621b077f"
      },
      "outputs": [
        {
          "output_type": "display_data",
          "data": {
            "text/plain": [
              "<Figure size 800x500 with 1 Axes>"
            ],
            "image/png": "[encoded data removed]"
          },
          "metadata": {}
        }
      ],
      "source": [
        "\n",
        "# Stress test: apply a -10% market shock\n",
        "shock = 0.10\n",
        "stressed_losses = losses - shock\n",
        "\n",
        "plt.figure(figsize=(8,5))\n",
        "plt.hist(stressed_losses, bins=50, alpha=0.7, color='salmon', edgecolor='black')\n",
        "plt.axvline(-var_95, color=\"red\", linestyle=\"--\", label=\"VaR (95%)\")\n",
        "plt.title(\"Portfolio Loss Distribution Under Stress Scenario (-10% shock)\")\n",
        "plt.xlabel(\"Loss\")\n",
        "plt.ylabel(\"Frequency\")\n",
        "plt.legend()\n",
        "plt.show()\n"
      ]
    },
    {
      "cell_type": "code",
      "execution_count": 9,
      "id": "514676f8",
      "metadata": {
        "colab": {
          "base_uri": "https://localhost:8080/"
        },
        "id": "514676f8",
        "outputId": "932f2b71-3862-4f9b-cd2c-9ca570698d8a"
      },
      "outputs": [
        {
          "output_type": "stream",
          "name": "stdout",
          "text": [
            "Monte Carlo VaR (95%): 0.0345\n",
            "Historical VaR (95%): -0.0272\n"
          ]
        }
      ],
      "source": [
        "\n",
        "# Historical VaR at 95%\n",
        "hist_var_95 = np.percentile(portfolio_returns.values.flatten(), 5)\n",
        "\n",
        "print(f\"Monte Carlo VaR (95%): {-var_95:.4f}\")\n",
        "print(f\"Historical VaR (95%): {hist_var_95:.4f}\")\n"
      ]
    },
    {
      "cell_type": "code",
      "execution_count": 11,
      "id": "523f4b5d",
      "metadata": {
        "id": "523f4b5d"
      },
      "outputs": [],
      "source": [
        "\n",
        "# Interactive widget for different confidence levels - commented it because github cannot remember state of the chart\n",
        "# def plot_var(confidence=95):\n",
        "#     var_level = np.percentile(losses, 100-confidence)\n",
        "#     plt.figure(figsize=(8,5))\n",
        "#     plt.hist(losses, bins=50, alpha=0.7, edgecolor='black')\n",
        "#     plt.axvline(-var_level, color=\"red\", linestyle=\"--\", label=f\"VaR ({confidence}%)\")\n",
        "#     plt.title(f\"Monte Carlo Simulation - VaR at {confidence}%\")\n",
        "#     plt.xlabel(\"Loss\")\n",
        "#     plt.ylabel(\"Frequency\")\n",
        "#     plt.legend()\n",
        "#     plt.show()\n",
        "\n",
        "# interact(plot_var, confidence=(90, 99));\n"
      ]
    },
    {
      "cell_type": "code",
      "source": [],
      "metadata": {
        "id": "mPp9C4M6Lm21"
      },
      "id": "mPp9C4M6Lm21",
      "execution_count": 10,
      "outputs": []
    }
  ],
  "metadata": {
    "colab": {
      "provenance": [],
      "include_colab_link": true
    },
    "language_info": {
      "name": "python"
    },
    "kernelspec": {
      "name": "python3",
      "display_name": "Python 3"
    }
  },
  "nbformat": 4,
  "nbformat_minor": 5
}