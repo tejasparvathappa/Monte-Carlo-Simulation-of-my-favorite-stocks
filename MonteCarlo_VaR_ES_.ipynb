{
  "cells": [
    {
      "cell_type": "markdown",
      "id": "58287982",
      "metadata": {
        "id": "58287982"
      },
      "source": [
        "\n",
        "# Monte Carlo Simulation for Value at Risk (VaR) and Expected Shortfall\n",
        "\n",
        "Calculating **Value at Risk (VaR)** and **Expected Shortfall (ES)** for a portfolio of assets."
      ]
    },
    {
      "cell_type": "code",
      "execution_count": 1,
      "id": "1e059b6b",
      "metadata": {
        "id": "1e059b6b"
      },
      "outputs": [],
      "source": [
        "\n",
        "import numpy as np\n",
        "import pandas as pd\n",
        "import matplotlib.pyplot as plt\n",
        "import yfinance as yf\n",
        "import ipywidgets as widgets\n",
        "from ipywidgets import interact\n"
      ]
    },
    {
      "cell_type": "code",
      "execution_count": 2,
      "id": "b09bf2f0",
      "metadata": {
        "colab": {
          "base_uri": "https://localhost:8080/",
          "height": 255
        },
        "id": "b09bf2f0",
        "outputId": "72eee4ad-7c48-41ba-caa3-95afd02854b2"
      },
      "outputs": [
        {
          "output_type": "stream",
          "name": "stderr",
          "text": [
            "[*********************100%***********************]  5 of 5 completed\n"
          ]
        },
        {
          "output_type": "execute_result",
          "data": {
            "text/plain": [
              "Ticker           AVGO        META  PLTR         QQQ         VOO\n",
              "Date                                                           \n",
              "2023-01-03  53.020180  123.975731  6.39  260.130615  337.761108\n",
              "2023-01-04  53.667744  126.589615  6.58  261.369873  340.193085\n",
              "2023-01-05  53.167690  126.162254  6.32  257.278290  336.477631\n",
              "2023-01-06  56.368187  129.223373  6.40  264.379517  344.130463\n",
              "2023-01-09  55.262714  128.676743  6.50  266.091034  343.879547"
            ],
            "text/html": [
              "\n",
              "  <div id=\"df-eefe6c5c-b05e-40dc-857a-ba1a2e20bc2b\" class=\"colab-df-container\">\n",
              "    <div>\n",
              "<style scoped>\n",
              "    .dataframe tbody tr th:only-of-type {\n",
              "        vertical-align: middle;\n",
              "    }\n",
              "\n",
              "    .dataframe tbody tr th {\n",
              "        vertical-align: top;\n",
              "    }\n",
              "\n",
              "    .dataframe thead th {\n",
              "        text-align: right;\n",
              "    }\n",
              "</style>\n",
              "<table border=\"1\" class=\"dataframe\">\n",
              "  <thead>\n",
              "    <tr style=\"text-align: right;\">\n",
              "      <th>Ticker</th>\n",
              "      <th>AVGO</th>\n",
              "      <th>META</th>\n",
              "      <th>PLTR</th>\n",
              "      <th>QQQ</th>\n",
              "      <th>VOO</th>\n",
              "    </tr>\n",
              "    <tr>\n",
              "      <th>Date</th>\n",
              "      <th></th>\n",
              "      <th></th>\n",
              "      <th></th>\n",
              "      <th></th>\n",
              "      <th></th>\n",
              "    </tr>\n",
              "  </thead>\n",
              "  <tbody>\n",
              "    <tr>\n",
              "      <th>2023-01-03</th>\n",
              "      <td>53.020180</td>\n",
              "      <td>123.975731</td>\n",
              "      <td>6.39</td>\n",
              "      <td>260.130615</td>\n",
              "      <td>337.761108</td>\n",
              "    </tr>\n",
              "    <tr>\n",
              "      <th>2023-01-04</th>\n",
              "      <td>53.667744</td>\n",
              "      <td>126.589615</td>\n",
              "      <td>6.58</td>\n",
              "      <td>261.369873</td>\n",
              "      <td>340.193085</td>\n",
              "    </tr>\n",
              "    <tr>\n",
              "      <th>2023-01-05</th>\n",
              "      <td>53.167690</td>\n",
              "      <td>126.162254</td>\n",
              "      <td>6.32</td>\n",
              "      <td>257.278290</td>\n",
              "      <td>336.477631</td>\n",
              "    </tr>\n",
              "    <tr>\n",
              "      <th>2023-01-06</th>\n",
              "      <td>56.368187</td>\n",
              "      <td>129.223373</td>\n",
              "      <td>6.40</td>\n",
              "      <td>264.379517</td>\n",
              "      <td>344.130463</td>\n",
              "    </tr>\n",
              "    <tr>\n",
              "      <th>2023-01-09</th>\n",
              "      <td>55.262714</td>\n",
              "      <td>128.676743</td>\n",
              "      <td>6.50</td>\n",
              "      <td>266.091034</td>\n",
              "      <td>343.879547</td>\n",
              "    </tr>\n",
              "  </tbody>\n",
              "</table>\n",
              "</div>\n",
              "    <div class=\"colab-df-buttons\">\n",
              "\n",
              "  <div class=\"colab-df-container\">\n",
              "    <button class=\"colab-df-convert\" onclick=\"convertToInteractive('df-eefe6c5c-b05e-40dc-857a-ba1a2e20bc2b')\"\n",
              "            title=\"Convert this dataframe to an interactive table.\"\n",
              "            style=\"display:none;\">\n",
              "\n",
              "  <svg xmlns=\"http://www.w3.org/2000/svg\" height=\"24px\" viewBox=\"0 -960 960 960\">\n",
              "    <path d=\"M120-120v-720h720v720H120Zm60-500h600v-160H180v160Zm220 220h160v-160H400v160Zm0 220h160v-160H400v160ZM180-400h160v-160H180v160Zm440 0h160v-160H620v160ZM180-180h160v-160H180v160Zm440 0h160v-160H620v160Z\"/>\n",
              "  </svg>\n",
              "    </button>\n",
              "\n",
              "  <style>\n",
              "    .colab-df-container {\n",
              "      display:flex;\n",
              "      gap: 12px;\n",
              "    }\n",
              "\n",
              "    .colab-df-convert {\n",
              "      background-color: #E8F0FE;\n",
              "      border: none;\n",
              "      border-radius: 50%;\n",
              "      cursor: pointer;\n",
              "      display: none;\n",
              "      fill: #1967D2;\n",
              "      height: 32px;\n",
              "      padding: 0 0 0 0;\n",
              "      width: 32px;\n",
              "    }\n",
              "\n",
              "    .colab-df-convert:hover {\n",
              "      background-color: #E2EBFA;\n",
              "      box-shadow: 0px 1px 2px rgba(60, 64, 67, 0.3), 0px 1px 3px 1px rgba(60, 64, 67, 0.15);\n",
              "      fill: #174EA6;\n",
              "    }\n",
              "\n",
              "    .colab-df-buttons div {\n",
              "      margin-bottom: 4px;\n",
              "    }\n",
              "\n",
              "    [theme=dark] .colab-df-convert {\n",
              "      background-color: #3B4455;\n",
              "      fill: #D2E3FC;\n",
              "    }\n",
              "\n",
              "    [theme=dark] .colab-df-convert:hover {\n",
              "      background-color: #434B5C;\n",
              "      box-shadow: 0px 1px 3px 1px rgba(0, 0, 0, 0.15);\n",
              "      filter: drop-shadow(0px 1px 2px rgba(0, 0, 0, 0.3));\n",
              "      fill: #FFFFFF;\n",
              "    }\n",
              "  </style>\n",
              "\n",
              "    <script>\n",
              "      const buttonEl =\n",
              "        document.querySelector('#df-eefe6c5c-b05e-40dc-857a-ba1a2e20bc2b button.colab-df-convert');\n",
              "      buttonEl.style.display =\n",
              "        google.colab.kernel.accessAllowed ? 'block' : 'none';\n",
              "\n",
              "      async function convertToInteractive(key) {\n",
              "        const element = document.querySelector('#df-eefe6c5c-b05e-40dc-857a-ba1a2e20bc2b');\n",
              "        const dataTable =\n",
              "          await google.colab.kernel.invokeFunction('convertToInteractive',\n",
              "                                                    [key], {});\n",
              "        if (!dataTable) return;\n",
              "\n",
              "        const docLinkHtml = 'Like what you see? Visit the ' +\n",
              "          '<a target=\"_blank\" href=https://colab.research.google.com/notebooks/data_table.ipynb>data table notebook</a>'\n",
              "          + ' to learn more about interactive tables.';\n",
              "        element.innerHTML = '';\n",
              "        dataTable['output_type'] = 'display_data';\n",
              "        await google.colab.output.renderOutput(dataTable, element);\n",
              "        const docLink = document.createElement('div');\n",
              "        docLink.innerHTML = docLinkHtml;\n",
              "        element.appendChild(docLink);\n",
              "      }\n",
              "    </script>\n",
              "  </div>\n",
              "\n",
              "\n",
              "    <div id=\"df-9f932a2b-c5a2-4441-8f6d-dcaaa2acb1e7\">\n",
              "      <button class=\"colab-df-quickchart\" onclick=\"quickchart('df-9f932a2b-c5a2-4441-8f6d-dcaaa2acb1e7')\"\n",
              "                title=\"Suggest charts\"\n",
              "                style=\"display:none;\">\n",
              "\n",
              "<svg xmlns=\"http://www.w3.org/2000/svg\" height=\"24px\"viewBox=\"0 0 24 24\"\n",
              "     width=\"24px\">\n",
              "    <g>\n",
              "        <path d=\"M19 3H5c-1.1 0-2 .9-2 2v14c0 1.1.9 2 2 2h14c1.1 0 2-.9 2-2V5c0-1.1-.9-2-2-2zM9 17H7v-7h2v7zm4 0h-2V7h2v10zm4 0h-2v-4h2v4z\"/>\n",
              "    </g>\n",
              "</svg>\n",
              "      </button>\n",
              "\n",
              "<style>\n",
              "  .colab-df-quickchart {\n",
              "      --bg-color: #E8F0FE;\n",
              "      --fill-color: #1967D2;\n",
              "      --hover-bg-color: #E2EBFA;\n",
              "      --hover-fill-color: #174EA6;\n",
              "      --disabled-fill-color: #AAA;\n",
              "      --disabled-bg-color: #DDD;\n",
              "  }\n",
              "\n",
              "  [theme=dark] .colab-df-quickchart {\n",
              "      --bg-color: #3B4455;\n",
              "      --fill-color: #D2E3FC;\n",
              "      --hover-bg-color: #434B5C;\n",
              "      --hover-fill-color: #FFFFFF;\n",
              "      --disabled-bg-color: #3B4455;\n",
              "      --disabled-fill-color: #666;\n",
              "  }\n",
              "\n",
              "  .colab-df-quickchart {\n",
              "    background-color: var(--bg-color);\n",
              "    border: none;\n",
              "    border-radius: 50%;\n",
              "    cursor: pointer;\n",
              "    display: none;\n",
              "    fill: var(--fill-color);\n",
              "    height: 32px;\n",
              "    padding: 0;\n",
              "    width: 32px;\n",
              "  }\n",
              "\n",
              "  .colab-df-quickchart:hover {\n",
              "    background-color: var(--hover-bg-color);\n",
              "    box-shadow: 0 1px 2px rgba(60, 64, 67, 0.3), 0 1px 3px 1px rgba(60, 64, 67, 0.15);\n",
              "    fill: var(--button-hover-fill-color);\n",
              "  }\n",
              "\n",
              "  .colab-df-quickchart-complete:disabled,\n",
              "  .colab-df-quickchart-complete:disabled:hover {\n",
              "    background-color: var(--disabled-bg-color);\n",
              "    fill: var(--disabled-fill-color);\n",
              "    box-shadow: none;\n",
              "  }\n",
              "\n",
              "  .colab-df-spinner {\n",
              "    border: 2px solid var(--fill-color);\n",
              "    border-color: transparent;\n",
              "    border-bottom-color: var(--fill-color);\n",
              "    animation:\n",
              "      spin 1s steps(1) infinite;\n",
              "  }\n",
              "\n",
              "  @keyframes spin {\n",
              "    0% {\n",
              "      border-color: transparent;\n",
              "      border-bottom-color: var(--fill-color);\n",
              "      border-left-color: var(--fill-color);\n",
              "    }\n",
              "    20% {\n",
              "      border-color: transparent;\n",
              "      border-left-color: var(--fill-color);\n",
              "      border-top-color: var(--fill-color);\n",
              "    }\n",
              "    30% {\n",
              "      border-color: transparent;\n",
              "      border-left-color: var(--fill-color);\n",
              "      border-top-color: var(--fill-color);\n",
              "      border-right-color: var(--fill-color);\n",
              "    }\n",
              "    40% {\n",
              "      border-color: transparent;\n",
              "      border-right-color: var(--fill-color);\n",
              "      border-top-color: var(--fill-color);\n",
              "    }\n",
              "    60% {\n",
              "      border-color: transparent;\n",
              "      border-right-color: var(--fill-color);\n",
              "    }\n",
              "    80% {\n",
              "      border-color: transparent;\n",
              "      border-right-color: var(--fill-color);\n",
              "      border-bottom-color: var(--fill-color);\n",
              "    }\n",
              "    90% {\n",
              "      border-color: transparent;\n",
              "      border-bottom-color: var(--fill-color);\n",
              "    }\n",
              "  }\n",
              "</style>\n",
              "\n",
              "      <script>\n",
              "        async function quickchart(key) {\n",
              "          const quickchartButtonEl =\n",
              "            document.querySelector('#' + key + ' button');\n",
              "          quickchartButtonEl.disabled = true;  // To prevent multiple clicks.\n",
              "          quickchartButtonEl.classList.add('colab-df-spinner');\n",
              "          try {\n",
              "            const charts = await google.colab.kernel.invokeFunction(\n",
              "                'suggestCharts', [key], {});\n",
              "          } catch (error) {\n",
              "            console.error('Error during call to suggestCharts:', error);\n",
              "          }\n",
              "          quickchartButtonEl.classList.remove('colab-df-spinner');\n",
              "          quickchartButtonEl.classList.add('colab-df-quickchart-complete');\n",
              "        }\n",
              "        (() => {\n",
              "          let quickchartButtonEl =\n",
              "            document.querySelector('#df-9f932a2b-c5a2-4441-8f6d-dcaaa2acb1e7 button');\n",
              "          quickchartButtonEl.style.display =\n",
              "            google.colab.kernel.accessAllowed ? 'block' : 'none';\n",
              "        })();\n",
              "      </script>\n",
              "    </div>\n",
              "\n",
              "    </div>\n",
              "  </div>\n"
            ],
            "application/vnd.google.colaboratory.intrinsic+json": {
              "type": "dataframe",
              "variable_name": "data",
              "summary": "{\n  \"name\": \"data\",\n  \"rows\": 624,\n  \"fields\": [\n    {\n      \"column\": \"Date\",\n      \"properties\": {\n        \"dtype\": \"date\",\n        \"min\": \"2023-01-03 00:00:00\",\n        \"max\": \"2025-06-30 00:00:00\",\n        \"num_unique_values\": 624,\n        \"samples\": [\n          \"2024-10-11 00:00:00\",\n          \"2024-12-23 00:00:00\",\n          \"2023-11-09 00:00:00\"\n        ],\n        \"semantic_type\": \"\",\n        \"description\": \"\"\n      }\n    },\n    {\n      \"column\": \"AVGO\",\n      \"properties\": {\n        \"dtype\": \"number\",\n        \"std\": 57.248885816212464,\n        \"min\": 53.020179748535156,\n        \"max\": 275.17852783203125,\n        \"num_unique_values\": 620,\n        \"samples\": [\n          59.971004486083984,\n          206.92758178710938,\n          59.080814361572266\n        ],\n        \"semantic_type\": \"\",\n        \"description\": \"\"\n      }\n    },\n    {\n      \"column\": \"META\",\n      \"properties\": {\n        \"dtype\": \"number\",\n        \"std\": 160.4799915543798,\n        \"min\": 123.9757308959961,\n        \"max\": 737.5922241210938,\n        \"num_unique_values\": 619,\n        \"samples\": [\n          196.53839111328125,\n          597.147216796875,\n          235.57772827148438\n        ],\n        \"semantic_type\": \"\",\n        \"description\": \"\"\n      }\n    },\n    {\n      \"column\": \"PLTR\",\n      \"properties\": {\n        \"dtype\": \"number\",\n        \"std\": 36.034138355331905,\n        \"min\": 6.320000171661377,\n        \"max\": 144.25,\n        \"num_unique_values\": 573,\n        \"samples\": [\n          83.5999984741211,\n          7.409999847412109,\n          15.25\n        ],\n        \"semantic_type\": \"\",\n        \"description\": \"\"\n      }\n    },\n    {\n      \"column\": \"QQQ\",\n      \"properties\": {\n        \"dtype\": \"number\",\n        \"std\": 75.21234988714414,\n        \"min\": 257.2782897949219,\n        \"max\": 551.001220703125,\n        \"num_unique_values\": 619,\n        \"samples\": [\n          294.0141296386719,\n          487.1774597167969,\n          314.6141357421875\n        ],\n        \"semantic_type\": \"\",\n        \"description\": \"\"\n      }\n    },\n    {\n      \"column\": \"VOO\",\n      \"properties\": {\n        \"dtype\": \"number\",\n        \"std\": 67.8145799040871,\n        \"min\": 336.4776306152344,\n        \"max\": 568.030029296875,\n        \"num_unique_values\": 622,\n        \"samples\": [\n          422.42547607421875,\n          481.50274658203125,\n          397.63922119140625\n        ],\n        \"semantic_type\": \"\",\n        \"description\": \"\"\n      }\n    }\n  ]\n}"
            }
          },
          "metadata": {},
          "execution_count": 2
        }
      ],
      "source": [
        "\n",
        "# Define tickers and period for my favorite stocks\n",
        "tickers = [\"VOO\", \"QQQ\", \"AVGO\", \"PLTR\", \"META\"]\n",
        "start = \"2023-01-01\"\n",
        "end = \"2025-07-01\"\n",
        "\n",
        "# Download adjusted close prices (auto_adjust=False ensures 'Adj Close' exists)\n",
        "data = yf.download(tickers, start=start, end=end, auto_adjust=False)[\"Adj Close\"]\n",
        "data.head()\n"
      ]
    },
    {
      "cell_type": "code",
      "execution_count": 3,
      "id": "377dc0f5",
      "metadata": {
        "colab": {
          "base_uri": "https://localhost:8080/",
          "height": 272
        },
        "id": "377dc0f5",
        "outputId": "dedacca8-5ca1-4c6a-9780-a5fc4497ec0f"
      },
      "outputs": [
        {
          "output_type": "execute_result",
          "data": {
            "text/plain": [
              "Date\n",
              "2023-01-04    0.014999\n",
              "2023-01-05   -0.015757\n",
              "2023-01-06    0.029493\n",
              "2023-01-09   -0.000494\n",
              "2023-01-10    0.014030\n",
              "dtype: float64"
            ],
            "text/html": [
              "<div>\n",
              "<style scoped>\n",
              "    .dataframe tbody tr th:only-of-type {\n",
              "        vertical-align: middle;\n",
              "    }\n",
              "\n",
              "    .dataframe tbody tr th {\n",
              "        vertical-align: top;\n",
              "    }\n",
              "\n",
              "    .dataframe thead th {\n",
              "        text-align: right;\n",
              "    }\n",
              "</style>\n",
              "<table border=\"1\" class=\"dataframe\">\n",
              "  <thead>\n",
              "    <tr style=\"text-align: right;\">\n",
              "      <th></th>\n",
              "      <th>0</th>\n",
              "    </tr>\n",
              "    <tr>\n",
              "      <th>Date</th>\n",
              "      <th></th>\n",
              "    </tr>\n",
              "  </thead>\n",
              "  <tbody>\n",
              "    <tr>\n",
              "      <th>2023-01-04</th>\n",
              "      <td>0.014999</td>\n",
              "    </tr>\n",
              "    <tr>\n",
              "      <th>2023-01-05</th>\n",
              "      <td>-0.015757</td>\n",
              "    </tr>\n",
              "    <tr>\n",
              "      <th>2023-01-06</th>\n",
              "      <td>0.029493</td>\n",
              "    </tr>\n",
              "    <tr>\n",
              "      <th>2023-01-09</th>\n",
              "      <td>-0.000494</td>\n",
              "    </tr>\n",
              "    <tr>\n",
              "      <th>2023-01-10</th>\n",
              "      <td>0.014030</td>\n",
              "    </tr>\n",
              "  </tbody>\n",
              "</table>\n",
              "</div><br><label><b>dtype:</b> float64</label>"
            ]
          },
          "metadata": {},
          "execution_count": 3
        }
      ],
      "source": [
        "\n",
        "# Calculate daily returns\n",
        "returns = data.pct_change().dropna()\n",
        "\n",
        "# Equal-weighted portfolio\n",
        "weights = np.ones(len(tickers)) / len(tickers)\n",
        "portfolio_returns = returns.dot(weights)\n",
        "portfolio_returns.head()\n"
      ]
    },
    {
      "cell_type": "code",
      "execution_count": 4,
      "id": "38a136a4",
      "metadata": {
        "id": "38a136a4"
      },
      "outputs": [],
      "source": [
        "\n",
        "# Parameters\n",
        "num_simulations = 100000\n",
        "\n",
        "# Mean and std of portfolio returns\n",
        "mu = portfolio_returns.mean()\n",
        "sigma = portfolio_returns.std()\n",
        "\n",
        "# Simulate losses (negative returns)\n",
        "simulated_returns = np.random.normal(mu, sigma, num_simulations)\n",
        "losses = -simulated_returns\n"
      ]
    },
    {
      "cell_type": "code",
      "execution_count": 5,
      "id": "4b963e5e",
      "metadata": {
        "colab": {
          "base_uri": "https://localhost:8080/"
        },
        "id": "4b963e5e",
        "outputId": "c0f3501b-d18a-4118-f1b5-cdde469aa941"
      },
      "outputs": [
        {
          "output_type": "stream",
          "name": "stdout",
          "text": [
            "Value at Risk (95% confidence): 0.0345\n"
          ]
        }
      ],
      "source": [
        "\n",
        "# Calculate 95% VaR\n",
        "confidence_level = 95\n",
        "var_95 = np.percentile(losses, 100-confidence_level)\n",
        "\n",
        "print(f\"Value at Risk (95% confidence): {-var_95:.4f}\")\n"
      ]
    },
    {
      "cell_type": "code",
      "execution_count": 6,
      "id": "8989e930",
      "metadata": {
        "colab": {
          "base_uri": "https://localhost:8080/",
          "height": 487
        },
        "id": "8989e930",
        "outputId": "f3c69f2f-ddf2-4cd9-d9fc-81a30fce78c2"
      },
      "outputs": [
        {
          "output_type": "display_data",
          "data": {
            "text/plain": [
              "<Figure size 800x500 with 1 Axes>"
            ],
            "image/png": "[encoded data removed]"
          },
          "metadata": {}
        }
      ],
      "source": [
        "\n",
        "# Plot distribution of losses\n",
        "plt.figure(figsize=(8,5))\n",
        "plt.hist(losses, bins=50, alpha=0.7, edgecolor='black')\n",
        "plt.axvline(-var_95, color=\"red\", linestyle=\"--\", label=\"VaR (95%)\")\n",
        "plt.title(\"Monte Carlo Simulation of Portfolio Losses\")\n",
        "plt.xlabel(\"Loss\")\n",
        "plt.ylabel(\"Frequency\")\n",
        "plt.legend()\n",
        "plt.show()\n"
      ]
    },
    {
      "cell_type": "code",
      "execution_count": 7,
      "id": "b5728727",
      "metadata": {
        "colab": {
          "base_uri": "https://localhost:8080/"
        },
        "id": "b5728727",
        "outputId": "eed00443-e7f1-4f48-cb44-bc2ebf712712"
      },
      "outputs": [
        {
          "output_type": "stream",
          "name": "stdout",
          "text": [
            "Expected Shortfall at 95% confidence: -0.0039\n"
          ]
        }
      ],
      "source": [
        "\n",
        "# Compute Expected Shortfall (Conditional VaR)\n",
        "es_95 = losses[losses <= -var_95].mean()\n",
        "print(f\"Expected Shortfall at 95% confidence: {es_95:.4f}\")\n"
      ]
    },
    {
      "cell_type": "code",
      "execution_count": 8,
      "id": "edc2d564",
      "metadata": {
        "colab": {
          "base_uri": "https://localhost:8080/",
          "height": 487
        },
        "id": "edc2d564",
        "outputId": "4a54b99d-c666-4803-902e-b11d621b077f"
      },
      "outputs": [
        {
          "output_type": "display_data",
          "data": {
            "text/plain": [
              "<Figure size 800x500 with 1 Axes>"
            ],
            "image/png": "[encoded data removed]"
          },
          "metadata": {}
        }
      ],
      "source": [
        "\n",
        "# Stress test: apply a -10% market shock\n",
        "shock = 0.10\n",
        "stressed_losses = losses - shock\n",
        "\n",
        "plt.figure(figsize=(8,5))\n",
        "plt.hist(stressed_losses, bins=50, alpha=0.7, color='salmon', edgecolor='black')\n",
        "plt.axvline(-var_95, color=\"red\", linestyle=\"--\", label=\"VaR (95%)\")\n",
        "plt.title(\"Portfolio Loss Distribution Under Stress Scenario (-10% shock)\")\n",
        "plt.xlabel(\"Loss\")\n",
        "plt.ylabel(\"Frequency\")\n",
        "plt.legend()\n",
        "plt.show()\n"
      ]
    },
    {
      "cell_type": "code",
      "execution_count": 9,
      "id": "514676f8",
      "metadata": {
        "colab": {
          "base_uri": "https://localhost:8080/"
        },
        "id": "514676f8",
        "outputId": "932f2b71-3862-4f9b-cd2c-9ca570698d8a"
      },
      "outputs": [
        {
          "output_type": "stream",
          "name": "stdout",
          "text": [
            "Monte Carlo VaR (95%): 0.0345\n",
            "Historical VaR (95%): -0.0272\n"
          ]
        }
      ],
      "source": [
        "\n",
        "# Historical VaR at 95%\n",
        "hist_var_95 = np.percentile(portfolio_returns.values.flatten(), 5)\n",
        "\n",
        "print(f\"Monte Carlo VaR (95%): {-var_95:.4f}\")\n",
        "print(f\"Historical VaR (95%): {hist_var_95:.4f}\")\n"
      ]
    },
    {
      "cell_type": "code",
      "execution_count": 10,
      "id": "523f4b5d",
      "metadata": {
        "colab": {
          "base_uri": "https://localhost:8080/",
          "height": 519,
          "referenced_widgets": [
            "d59c0359cf164e1cb2da3fc315556dd3",
            "e8cd0d714f504ae68187638efcaab43e",
            "a8d47764b03c42ed9b3f36e0ca6b2e35",
            "7a839f89c8964553b39554f8869645ea",
            "06fdb6edf1a54bbcb88301d4e86131ca",
            "775fc4716a6141e89db49b189b889b99",
            "66b193fe2aaf44a4b039c942a37eaab0"
          ]
        },
        "id": "523f4b5d",
        "outputId": "a5fef627-acdf-4ac9-bb5a-a04cfa574fc1"
      },
      "outputs": [
        {
          "output_type": "display_data",
          "data": {
            "text/plain": [
              "interactive(children=(IntSlider(value=95, description='confidence', max=99, min=90), Output()), _dom_classes=(…"
            ],
            "application/vnd.jupyter.widget-view+json": {
              "version_major": 2,
              "version_minor": 0,
              "model_id": "d59c0359cf164e1cb2da3fc315556dd3"
            }
          },
          "metadata": {}
        }
      ],
      "source": [
        "\n",
        "# Interactive widget for different confidence levels\n",
        "def plot_var(confidence=95):\n",
        "    var_level = np.percentile(losses, 100-confidence)\n",
        "    plt.figure(figsize=(8,5))\n",
        "    plt.hist(losses, bins=50, alpha=0.7, edgecolor='black')\n",
        "    plt.axvline(-var_level, color=\"red\", linestyle=\"--\", label=f\"VaR ({confidence}%)\")\n",
        "    plt.title(f\"Monte Carlo Simulation - VaR at {confidence}%\")\n",
        "    plt.xlabel(\"Loss\")\n",
        "    plt.ylabel(\"Frequency\")\n",
        "    plt.legend()\n",
        "    plt.show()\n",
        "\n",
        "interact(plot_var, confidence=(90, 99));\n"
      ]
    },
    {
      "cell_type": "code",
      "source": [],
      "metadata": {
        "id": "mPp9C4M6Lm21"
      },
      "id": "mPp9C4M6Lm21",
      "execution_count": 10,
      "outputs": []
    }
  ],
  "metadata": {
    "colab": {
      "provenance": []
    },
    "language_info": {
      "name": "python"
    },
    "kernelspec": {
      "name": "python3",
      "display_name": "Python 3"
    },
    "widgets": {
      "application/vnd.jupyter.widget-state+json": {
        "d59c0359cf164e1cb2da3fc315556dd3": {
          "model_module": "@jupyter-widgets/controls",
          "model_name": "VBoxModel",
          "model_module_version": "1.5.0",
          "state": {
            "_dom_classes": [
              "widget-interact"
            ],
            "_model_module": "@jupyter-widgets/controls",
            "_model_module_version": "1.5.0",
            "_model_name": "VBoxModel",
            "_view_count": null,
            "_view_module": "@jupyter-widgets/controls",
            "_view_module_version": "1.5.0",
            "_view_name": "VBoxView",
            "box_style": "",
            "children": [
              "IPY_MODEL_e8cd0d714f504ae68187638efcaab43e",
              "IPY_MODEL_a8d47764b03c42ed9b3f36e0ca6b2e35"
            ],
            "layout": "IPY_MODEL_7a839f89c8964553b39554f8869645ea"
          }
        },
        "e8cd0d714f504ae68187638efcaab43e": {
          "model_module": "@jupyter-widgets/controls",
          "model_name": "IntSliderModel",
          "model_module_version": "1.5.0",
          "state": {
            "_dom_classes": [],
            "_model_module": "@jupyter-widgets/controls",
            "_model_module_version": "1.5.0",
            "_model_name": "IntSliderModel",
            "_view_count": null,
            "_view_module": "@jupyter-widgets/controls",
            "_view_module_version": "1.5.0",
            "_view_name": "IntSliderView",
            "continuous_update": true,
            "description": "confidence",
            "description_tooltip": null,
            "disabled": false,
            "layout": "IPY_MODEL_06fdb6edf1a54bbcb88301d4e86131ca",
            "max": 99,
            "min": 90,
            "orientation": "horizontal",
            "readout": true,
            "readout_format": "d",
            "step": 1,
            "style": "IPY_MODEL_775fc4716a6141e89db49b189b889b99",
            "value": 95
          }
        },
        "a8d47764b03c42ed9b3f36e0ca6b2e35": {
          "model_module": "@jupyter-widgets/output",
          "model_name": "OutputModel",
          "model_module_version": "1.0.0",
          "state": {
            "_dom_classes": [],
            "_model_module": "@jupyter-widgets/output",
            "_model_module_version": "1.0.0",
            "_model_name": "OutputModel",
            "_view_count": null,
            "_view_module": "@jupyter-widgets/output",
            "_view_module_version": "1.0.0",
            "_view_name": "OutputView",
            "layout": "IPY_MODEL_66b193fe2aaf44a4b039c942a37eaab0",
            "msg_id": "",
            "outputs": [
              {
                "output_type": "display_data",
                "data": {
                  "text/plain": "<Figure size 800x500 with 1 Axes>",
                  "image/png": "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\n"
                },
                "metadata": {}
              }
            ]
          }
        },
        "7a839f89c8964553b39554f8869645ea": {
          "model_module": "@jupyter-widgets/base",
          "model_name": "LayoutModel",
          "model_module_version": "1.2.0",
          "state": {
            "_model_module": "@jupyter-widgets/base",
            "_model_module_version": "1.2.0",
            "_model_name": "LayoutModel",
            "_view_count": null,
            "_view_module": "@jupyter-widgets/base",
            "_view_module_version": "1.2.0",
            "_view_name": "LayoutView",
            "align_content": null,
            "align_items": null,
            "align_self": null,
            "border": null,
            "bottom": null,
            "display": null,
            "flex": null,
            "flex_flow": null,
            "grid_area": null,
            "grid_auto_columns": null,
            "grid_auto_flow": null,
            "grid_auto_rows": null,
            "grid_column": null,
            "grid_gap": null,
            "grid_row": null,
            "grid_template_areas": null,
            "grid_template_columns": null,
            "grid_template_rows": null,
            "height": null,
            "justify_content": null,
            "justify_items": null,
            "left": null,
            "margin": null,
            "max_height": null,
            "max_width": null,
            "min_height": null,
            "min_width": null,
            "object_fit": null,
            "object_position": null,
            "order": null,
            "overflow": null,
            "overflow_x": null,
            "overflow_y": null,
            "padding": null,
            "right": null,
            "top": null,
            "visibility": null,
            "width": null
          }
        },
        "06fdb6edf1a54bbcb88301d4e86131ca": {
          "model_module": "@jupyter-widgets/base",
          "model_name": "LayoutModel",
          "model_module_version": "1.2.0",
          "state": {
            "_model_module": "@jupyter-widgets/base",
            "_model_module_version": "1.2.0",
            "_model_name": "LayoutModel",
            "_view_count": null,
            "_view_module": "@jupyter-widgets/base",
            "_view_module_version": "1.2.0",
            "_view_name": "LayoutView",
            "align_content": null,
            "align_items": null,
            "align_self": null,
            "border": null,
            "bottom": null,
            "display": null,
            "flex": null,
            "flex_flow": null,
            "grid_area": null,
            "grid_auto_columns": null,
            "grid_auto_flow": null,
            "grid_auto_rows": null,
            "grid_column": null,
            "grid_gap": null,
            "grid_row": null,
            "grid_template_areas": null,
            "grid_template_columns": null,
            "grid_template_rows": null,
            "height": null,
            "justify_content": null,
            "justify_items": null,
            "left": null,
            "margin": null,
            "max_height": null,
            "max_width": null,
            "min_height": null,
            "min_width": null,
            "object_fit": null,
            "object_position": null,
            "order": null,
            "overflow": null,
            "overflow_x": null,
            "overflow_y": null,
            "padding": null,
            "right": null,
            "top": null,
            "visibility": null,
            "width": null
          }
        },
        "775fc4716a6141e89db49b189b889b99": {
          "model_module": "@jupyter-widgets/controls",
          "model_name": "SliderStyleModel",
          "model_module_version": "1.5.0",
          "state": {
            "_model_module": "@jupyter-widgets/controls",
            "_model_module_version": "1.5.0",
            "_model_name": "SliderStyleModel",
            "_view_count": null,
            "_view_module": "@jupyter-widgets/base",
            "_view_module_version": "1.2.0",
            "_view_name": "StyleView",
            "description_width": "",
            "handle_color": null
          }
        },
        "66b193fe2aaf44a4b039c942a37eaab0": {
          "model_module": "@jupyter-widgets/base",
          "model_name": "LayoutModel",
          "model_module_version": "1.2.0",
          "state": {
            "_model_module": "@jupyter-widgets/base",
            "_model_module_version": "1.2.0",
            "_model_name": "LayoutModel",
            "_view_count": null,
            "_view_module": "@jupyter-widgets/base",
            "_view_module_version": "1.2.0",
            "_view_name": "LayoutView",
            "align_content": null,
            "align_items": null,
            "align_self": null,
            "border": null,
            "bottom": null,
            "display": null,
            "flex": null,
            "flex_flow": null,
            "grid_area": null,
            "grid_auto_columns": null,
            "grid_auto_flow": null,
            "grid_auto_rows": null,
            "grid_column": null,
            "grid_gap": null,
            "grid_row": null,
            "grid_template_areas": null,
            "grid_template_columns": null,
            "grid_template_rows": null,
            "height": null,
            "justify_content": null,
            "justify_items": null,
            "left": null,
            "margin": null,
            "max_height": null,
            "max_width": null,
            "min_height": null,
            "min_width": null,
            "object_fit": null,
            "object_position": null,
            "order": null,
            "overflow": null,
            "overflow_x": null,
            "overflow_y": null,
            "padding": null,
            "right": null,
            "top": null,
            "visibility": null,
            "width": null
          }
        }
      }
    }
  },
  "nbformat": 4,
  "nbformat_minor": 5
}